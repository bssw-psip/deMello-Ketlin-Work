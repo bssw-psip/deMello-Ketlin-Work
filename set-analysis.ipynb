{
 "cells": [
  {
   "cell_type": "code",
   "execution_count": 625,
   "id": "542c9d79",
   "metadata": {},
   "outputs": [],
   "source": [
    "import pandas as pd\n",
    "\n",
    "import matplotlib.pylab as plt\n",
    "authors = pd.read_csv(r'C:\\Users\\ketli\\Documents\\Summer 2021\\ORNL\\Repo\\reposcanner-data\\authors.csv')\n",
    "repolist = pd.read_csv(r'C:\\Users\\ketli\\Documents\\Summer 2021\\ORNL\\Repo\\reposcanner-data\\repolist.csv')\n",
    "\n",
    "# total number of lines 'LIN'\n",
    "authors['LIN'] = authors['adds'] + authors['dels']"
   ]
  },
  {
   "cell_type": "code",
   "execution_count": 626,
   "id": "e82fe074",
   "metadata": {},
   "outputs": [],
   "source": [
    "#set_dev1k = The set of developers who contributed at least 1,000 lines of code in total.\n",
    "def core_dev_1k():\n",
    "    #Grouped by FID as index, .sum() all values for FID\n",
    "    fid_info = authors.groupby('FID', sort=True, as_index=True).sum()\n",
    "    set_dev1k = set(fid_info[fid_info['LIN'] >= 1000].index)\n",
    "    return set_dev1k"
   ]
  },
  {
   "cell_type": "code",
   "execution_count": 627,
   "id": "c7053415",
   "metadata": {},
   "outputs": [],
   "source": [
    "def top_contributors(rid):\n",
    "    repo = authors.loc[authors['RID'] == rid]\n",
    "    sort_lines = repo.sort_values(by='LIN', ascending=False)\n",
    "    core = core_dev_repo(sort_lines)\n",
    "    return core"
   ]
  },
  {
   "cell_type": "code",
   "execution_count": 628,
   "id": "5cdbbf4b",
   "metadata": {},
   "outputs": [],
   "source": [
    "def core_dev_repo(sort_lines, pct = 0.8):\n",
    "    total = 0\n",
    "    ele = 0\n",
    "    cutoff = sort_lines['LIN'].sum() * pct\n",
    "   \n",
    "    # Iterate each element in list\n",
    "    # and add them in variable total\n",
    "    while(ele < len(sort_lines)):\n",
    "        total = total + sort_lines.iloc[ele]['LIN']\n",
    "        if total >= cutoff:\n",
    "            break\n",
    "        ele += 1\n",
    "    return sort_lines.iloc[:ele + 1]"
   ]
  },
  {
   "cell_type": "code",
   "execution_count": 629,
   "id": "c49f2181",
   "metadata": {},
   "outputs": [],
   "source": [
    "#set_coredev = The set of developers who were \"core\" contributors to at least 1 repository.\n",
    "def core_dev():\n",
    "    all_core = []\n",
    "    set_coredev = set()\n",
    "\n",
    "    for rid in rid_sum.index:\n",
    "        core = top_contributors(rid)   \n",
    "        fid = core['FID'].values.tolist()\n",
    "        all_core.append(fid)\n",
    "    \n",
    "    for i in all_core:\n",
    "        for j in i:\n",
    "            set_coredev.add(j)\n",
    "    return set_coredev"
   ]
  },
  {
   "cell_type": "code",
   "execution_count": 630,
   "id": "15ca5311",
   "metadata": {},
   "outputs": [],
   "source": [
    "repo_project = pd.merge(authors, repolist[['RID','PID']], on='RID', how='left')"
   ]
  },
  {
   "cell_type": "code",
   "execution_count": 631,
   "id": "3e63f4c3",
   "metadata": {},
   "outputs": [],
   "source": [
    "#set_crosscontrib = The set of developers who made commits to repositories belonging to more than one ECP project.\n",
    "def crosscontrib():\n",
    "    pid_group = repo_project.groupby('PID')['FID'].apply(list)\n",
    "    dictionary = {}\n",
    "    for i in pid_group:\n",
    "        unique_fid = list(dict.fromkeys(i))\n",
    "        for j in unique_fid:\n",
    "            dictionary[j] = dictionary.setdefault(j, 0) + 1        \n",
    "    set_crosscontrib = set(key for key, value in dictionary.items() if value >= 2)\n",
    "    return set_crosscontrib"
   ]
  },
  {
   "cell_type": "code",
   "execution_count": null,
   "id": "6bea457f",
   "metadata": {},
   "outputs": [],
   "source": []
  }
 ],
 "metadata": {
  "kernelspec": {
   "display_name": "Python 3 (ipykernel)",
   "language": "python",
   "name": "python3"
  },
  "language_info": {
   "codemirror_mode": {
    "name": "ipython",
    "version": 3
   },
   "file_extension": ".py",
   "mimetype": "text/x-python",
   "name": "python",
   "nbconvert_exporter": "python",
   "pygments_lexer": "ipython3",
   "version": "3.9.2"
  }
 },
 "nbformat": 4,
 "nbformat_minor": 5
}
